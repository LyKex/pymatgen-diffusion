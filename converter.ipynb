{
 "nbformat": 4,
 "nbformat_minor": 2,
 "metadata": {
  "language_info": {
   "name": "python",
   "codemirror_mode": {
    "name": "ipython",
    "version": 3
   },
   "version": "3.7.3-final"
  },
  "orig_nbformat": 2,
  "file_extension": ".py",
  "mimetype": "text/x-python",
  "name": "python",
  "npconvert_exporter": "python",
  "pygments_lexer": "ipython3",
  "version": 3,
  "kernelspec": {
   "name": "for_pymatgen",
   "display_name": "Python(pymatgen)"
  }
 },
 "cells": [
  {
   "cell_type": "code",
   "execution_count": 1,
   "metadata": {},
   "outputs": [],
   "source": [
    "from pymatgen.core import Structure\n",
    "import os\n",
    "import numpy as np"
   ]
  },
  {
   "cell_type": "code",
   "execution_count": 4,
   "metadata": {},
   "outputs": [],
   "source": [
    "path = 'C:\\\\ComputMatSci\\\\lammps.neb\\\\c_graphene\\\\20200303\\\\NEB-im7'\n",
    "\n",
    "for n in range(1):\n",
    "    strc = Structure.from_file(filename='%s\\\\lammps_ovito_%1d.POSCAR'%(path,n))\n",
    "    # os.mkdir('%s\\\\%02d' % (path,n))\n",
    "    strc.to(fmt='poscar',filename='%s\\\\POSCAR_%1d' % (path,n))"
   ]
  },
  {
   "cell_type": "code",
   "execution_count": 7,
   "metadata": {},
   "outputs": [
    {
     "data": {
      "text/plain": "Structure Summary\nLattice\n    abc : 15.0 15.0 15.0\n angles : 90.0 90.0 90.0\n volume : 3375.0\n      A : 15.0 0.0 0.0\n      B : 0.0 15.0 0.0\n      C : 0.0 0.0 15.0\nPeriodicSite: C (3.8038, 7.4565, 6.7050) [0.2536, 0.4971, 0.4470]\nPeriodicSite: C (4.5244, 6.2277, 6.7050) [0.3016, 0.4152, 0.4470]\nPeriodicSite: C (5.9423, 6.2277, 6.7050) [0.3962, 0.4152, 0.4470]\nPeriodicSite: C (6.6563, 4.9891, 6.7050) [0.4438, 0.3326, 0.4470]\nPeriodicSite: C (8.0715, 4.9898, 6.7050) [0.5381, 0.3327, 0.4470]\nPeriodicSite: C (3.8029, 9.9153, 6.7050) [0.2535, 0.6610, 0.4470]\nPeriodicSite: C (4.5235, 8.6865, 6.7050) [0.3016, 0.5791, 0.4470]\nPeriodicSite: C (5.9432, 8.6865, 6.7050) [0.3962, 0.5791, 0.4470]\nPeriodicSite: C (6.6537, 7.4565, 6.7050) [0.4436, 0.4971, 0.4470]\nPeriodicSite: C (8.0737, 7.4565, 6.7050) [0.5382, 0.4971, 0.4470]\nPeriodicSite: C (4.5252, 11.1542, 6.7050) [0.3017, 0.7436, 0.4470]\nPeriodicSite: C (5.9407, 11.1539, 6.7050) [0.3960, 0.7436, 0.4470]\nPeriodicSite: C (6.6545, 9.9153, 6.7050) [0.4436, 0.6610, 0.4470]\nPeriodicSite: C (8.0728, 9.9153, 6.7050) [0.5382, 0.6610, 0.4470]\nPeriodicSite: C (6.5866, 12.3975, 6.7050) [0.4391, 0.8265, 0.4470]\nPeriodicSite: C (8.1408, 12.3974, 6.7050) [0.5427, 0.8265, 0.4470]\nPeriodicSite: C (8.7844, 6.2276, 6.7050) [0.5856, 0.4152, 0.4470]\nPeriodicSite: C (10.2039, 6.2265, 6.7050) [0.6803, 0.4151, 0.4470]\nPeriodicSite: C (8.7836, 8.6865, 6.7050) [0.5856, 0.5791, 0.4470]\nPeriodicSite: C (10.2042, 8.6865, 6.7050) [0.6803, 0.5791, 0.4470]\nPeriodicSite: C (10.9231, 7.4566, 6.7050) [0.7282, 0.4971, 0.4470]\nPeriodicSite: C (8.7861, 11.1539, 6.7050) [0.5857, 0.7436, 0.4470]\nPeriodicSite: C (10.2024, 11.1542, 6.7050) [0.6802, 0.7436, 0.4470]\nPeriodicSite: C (10.9239, 9.9153, 6.7050) [0.7283, 0.6610, 0.4470]\nPeriodicSite: C (1.9548, 3.7772, 6.7050) [0.1303, 0.2518, 0.4470]\nPeriodicSite: C (2.5368, 2.7841, 6.7050) [0.1691, 0.1856, 0.4470]\nPeriodicSite: C (3.6887, 2.7843, 6.7050) [0.2459, 0.1856, 0.4470]\nPeriodicSite: C (1.9293, 6.2278, 6.7050) [0.1286, 0.4152, 0.4470]\nPeriodicSite: C (2.4073, 4.9896, 6.7050) [0.1605, 0.3326, 0.4470]\nPeriodicSite: C (3.8008, 4.9892, 6.7050) [0.2534, 0.3326, 0.4470]\nPeriodicSite: C (4.4557, 3.7445, 6.7050) [0.2970, 0.2496, 0.4470]\nPeriodicSite: C (6.0105, 3.7454, 6.7050) [0.4007, 0.2497, 0.4470]\nPeriodicSite: C (6.7813, 2.7808, 6.7050) [0.4521, 0.1854, 0.4470]\nPeriodicSite: C (7.9472, 2.7810, 6.7050) [0.5298, 0.1854, 0.4470]\nPeriodicSite: C (1.9299, 8.6866, 6.7050) [0.1287, 0.5791, 0.4470]\nPeriodicSite: C (2.4050, 7.4564, 6.7050) [0.1603, 0.4971, 0.4470]\nPeriodicSite: C (8.7256, 3.7428, 6.7050) [0.5817, 0.2495, 0.4470]\nPeriodicSite: C (10.2217, 3.7561, 6.7050) [0.6814, 0.2504, 0.4470]\nPeriodicSite: C (10.7876, 2.7688, 6.7050) [0.7192, 0.1846, 0.4470]\nPeriodicSite: C (1.9283, 11.1546, 6.7050) [0.1286, 0.7436, 0.4470]\nPeriodicSite: C (2.4057, 9.9151, 6.7050) [0.1604, 0.6610, 0.4470]\nPeriodicSite: C (1.8216, 13.3641, 6.7050) [0.1214, 0.8909, 0.4470]\nPeriodicSite: C (2.3715, 12.3566, 6.7050) [0.1581, 0.8238, 0.4470]\nPeriodicSite: C (3.8670, 12.3971, 6.7050) [0.2578, 0.8265, 0.4470]\nPeriodicSite: C (4.6499, 13.3626, 6.7050) [0.3100, 0.8908, 0.4470]\nPeriodicSite: C (5.8157, 13.3623, 6.7050) [0.3877, 0.8908, 0.4470]\nPeriodicSite: C (10.9198, 4.9965, 6.7050) [0.7280, 0.3331, 0.4470]\nPeriodicSite: C (12.3452, 5.0144, 6.7050) [0.8230, 0.3343, 0.4470]\nPeriodicSite: C (12.8993, 4.0072, 6.7050) [0.8600, 0.2671, 0.4470]\nPeriodicSite: C (12.3220, 7.4577, 6.7050) [0.8215, 0.4972, 0.4470]\nPeriodicSite: C (12.7986, 6.2193, 6.7050) [0.8532, 0.4146, 0.4470]\nPeriodicSite: C (12.3219, 9.9151, 6.7050) [0.8215, 0.6610, 0.4470]\nPeriodicSite: C (12.7974, 8.6865, 6.7050) [0.8532, 0.5791, 0.4470]\nPeriodicSite: C (8.9115, 13.3621, 6.7050) [0.5941, 0.8908, 0.4470]\nPeriodicSite: C (10.0774, 13.3625, 6.7050) [0.6718, 0.8908, 0.4470]\nPeriodicSite: C (10.8598, 12.3971, 6.7050) [0.7240, 0.8265, 0.4470]\nPeriodicSite: C (12.3561, 12.3565, 6.7050) [0.8237, 0.8238, 0.4470]\nPeriodicSite: C (12.7990, 11.1546, 6.7050) [0.8533, 0.7436, 0.4470]\nPeriodicSite: C (12.9057, 13.3642, 6.7050) [0.8604, 0.8909, 0.4470]\nPeriodicSite: Li (7.3636, 8.6865, 9.7050) [0.4909, 0.5791, 0.6470]"
     },
     "execution_count": 7,
     "metadata": {},
     "output_type": "execute_result"
    }
   ],
   "source": [
    "strc"
   ]
  },
  {
   "cell_type": "code",
   "execution_count": 12,
   "metadata": {},
   "outputs": [],
   "source": [
    "\n",
    "\n",
    "for step in range(11):\n",
    "    distance = 1 + step * 0.2\n",
    "    os.mkdir('C:\\\\ComputMatSci\\\\test_dimer\\\\step%02d' % step)\n",
    "    file_name = 'C:\\\\ComputMatSci\\\\test_dimer\\\\step%02d\\\\POSCAR' % step\n",
    "    with open(file_name,'w+') as f:\n",
    "        f.write('dimer%02d\\n' % step)\n",
    "        \n",
    "        scale_factor = 1.0\n",
    "        f.write('%f\\n' % scale_factor)\n",
    "\n",
    "        lattice_constant = 16\n",
    "        for i in range(3):\n",
    "            z = np.zeros(3)\n",
    "            z[i] = lattice_constant\n",
    "            f.write('%f %f %f \\n' %(z[0], z[1], z[2]))\n",
    "\n",
    "        element = ['c']\n",
    "        number  = [2]\n",
    "        for e in element:\n",
    "            f.write('\\t%s' % e)\n",
    "        f.write('\\n')\n",
    "        for n in number:\n",
    "            f.write('\\t%d' % n)\n",
    "        f.write('\\n')\n",
    "\n",
    "        coord_type = 'Cart'\n",
    "        f.write('%s\\n' % coord_type)\n",
    "\n",
    "        x = distance / 2\n",
    "        atom1 = np.array([x,8,8])\n",
    "        atom2 = np.array([-x,8,8])\n",
    "        f.write('%f %f %f\\n' % (atom1[0],atom1[1],atom1[2]))\n",
    "        f.write('%f %f %f\\n' % (atom2[0],atom2[1],atom2[2]))"
   ]
  },
  {
   "cell_type": "code",
   "execution_count": 6,
   "metadata": {},
   "outputs": [
    {
     "output_type": "stream",
     "name": "stdout",
     "text": "[5.03380742 1.24547667 4.88445917]\n"
    }
   ],
   "source": [
    "# linear interpolation\n",
    "point1 = np.array([5.03380742, 1.24547667, 3.46445917])\n",
    "point2 = np.array([0,0,10])\n",
    "distance = 1.42\n",
    "vec = (point2-point1)/np.linalg.norm(point1-point2)\n",
    "# org = np.array([0.40285556, 0.50279837, 0.60312679])\n",
    "disp = point1 + distance * np.array([0,0,1])\n",
    "print(disp)"
   ]
  },
  {
   "cell_type": "code",
   "execution_count": null,
   "metadata": {},
   "outputs": [],
   "source": [
    "if true:\n",
    "    print(\"1\")\n",
    "    elif "
   ]
  }
 ]
}