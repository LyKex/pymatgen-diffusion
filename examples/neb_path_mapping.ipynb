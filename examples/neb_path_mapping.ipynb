{
 "cells": [
  {
   "cell_type": "markdown",
   "metadata": {},
   "source": [
    "# Using the FullPathMapper for Migration For Graph based Migration Barrier Analysis"
   ]
  },
  {
   "cell_type": "code",
   "execution_count": 27,
   "metadata": {},
   "outputs": [],
   "source": [
    "# Start with a lithiated structure\n",
    "from pymatgen import MPRester, Structure\n",
    "struct = MPRester().get_structure_by_material_id(\"mp-770533\")"
   ]
  },
  {
   "cell_type": "code",
   "execution_count": 29,
   "metadata": {},
   "outputs": [
    {
     "data": {
      "text/plain": [
       "{(0, 1, 0): {'hop_label': 0},\n",
       " (0, 1, 1): {'hop_label': 1},\n",
       " (0, 4, 0): {'hop_label': 0},\n",
       " (0, 4, 1): {'hop_label': 1},\n",
       " (0, 3, 0): {'hop_label': 2},\n",
       " (0, 3, 1): {'hop_label': 3},\n",
       " (0, 2, 0): {'hop_label': 4},\n",
       " (0, 9, 0): {'hop_label': 4},\n",
       " (0, 8, 0): {'hop_label': 3},\n",
       " (0, 8, 1): {'hop_label': 2},\n",
       " (0, 11, 0): {'hop_label': 5},\n",
       " (0, 11, 1): {'hop_label': 5},\n",
       " (1, 3, 0): {'hop_label': 2},\n",
       " (1, 3, 1): {'hop_label': 3},\n",
       " (1, 2, 0): {'hop_label': 4},\n",
       " (1, 5, 0): {'hop_label': 0},\n",
       " (1, 5, 1): {'hop_label': 1},\n",
       " (1, 10, 0): {'hop_label': 5},\n",
       " (1, 10, 1): {'hop_label': 5},\n",
       " (1, 9, 0): {'hop_label': 4},\n",
       " (1, 8, 0): {'hop_label': 3},\n",
       " (1, 8, 1): {'hop_label': 2},\n",
       " (2, 4, 0): {'hop_label': 4},\n",
       " (2, 7, 0): {'hop_label': 3},\n",
       " (2, 7, 1): {'hop_label': 2},\n",
       " (2, 5, 0): {'hop_label': 4},\n",
       " (2, 6, 0): {'hop_label': 3},\n",
       " (2, 6, 1): {'hop_label': 2},\n",
       " (2, 11, 0): {'hop_label': 3},\n",
       " (2, 11, 1): {'hop_label': 2},\n",
       " (2, 10, 0): {'hop_label': 3},\n",
       " (2, 10, 1): {'hop_label': 2},\n",
       " (2, 3, 0): {'hop_label': 6},\n",
       " (2, 3, 1): {'hop_label': 6},\n",
       " (3, 4, 0): {'hop_label': 3},\n",
       " (3, 4, 1): {'hop_label': 2},\n",
       " (3, 7, 0): {'hop_label': 4},\n",
       " (3, 5, 0): {'hop_label': 3},\n",
       " (3, 5, 1): {'hop_label': 2},\n",
       " (3, 6, 0): {'hop_label': 4},\n",
       " (3, 11, 0): {'hop_label': 4},\n",
       " (3, 10, 0): {'hop_label': 4},\n",
       " (4, 9, 0): {'hop_label': 4},\n",
       " (4, 8, 0): {'hop_label': 3},\n",
       " (4, 8, 1): {'hop_label': 2},\n",
       " (4, 7, 0): {'hop_label': 5},\n",
       " (4, 7, 1): {'hop_label': 5},\n",
       " (4, 5, 0): {'hop_label': 0},\n",
       " (4, 5, 1): {'hop_label': 1},\n",
       " (5, 6, 0): {'hop_label': 5},\n",
       " (5, 6, 1): {'hop_label': 5},\n",
       " (5, 9, 0): {'hop_label': 4},\n",
       " (5, 8, 0): {'hop_label': 3},\n",
       " (5, 8, 1): {'hop_label': 2},\n",
       " (6, 7, 0): {'hop_label': 0},\n",
       " (6, 7, 1): {'hop_label': 1},\n",
       " (6, 8, 0): {'hop_label': 4},\n",
       " (6, 9, 0): {'hop_label': 3},\n",
       " (6, 9, 1): {'hop_label': 2},\n",
       " (6, 10, 0): {'hop_label': 0},\n",
       " (6, 10, 1): {'hop_label': 1},\n",
       " (7, 8, 0): {'hop_label': 4},\n",
       " (7, 9, 0): {'hop_label': 3},\n",
       " (7, 9, 1): {'hop_label': 2},\n",
       " (7, 11, 0): {'hop_label': 0},\n",
       " (7, 11, 1): {'hop_label': 1},\n",
       " (8, 9, 0): {'hop_label': 6},\n",
       " (8, 9, 1): {'hop_label': 6},\n",
       " (8, 10, 0): {'hop_label': 4},\n",
       " (8, 11, 0): {'hop_label': 4},\n",
       " (9, 10, 0): {'hop_label': 2},\n",
       " (9, 10, 1): {'hop_label': 3},\n",
       " (9, 11, 0): {'hop_label': 2},\n",
       " (9, 11, 1): {'hop_label': 3},\n",
       " (10, 11, 0): {'hop_label': 0},\n",
       " (10, 11, 1): {'hop_label': 1}}"
      ]
     },
     "execution_count": 29,
     "metadata": {},
     "output_type": "execute_result"
    }
   ],
   "source": [
    "# BASIC usage of the Full \n",
    "from pymatgen_diffusion.neb.full_path_mapper import FullPathMapper\n",
    "# instanciate the full path mapper, all hops with distance below a cutoff of 4 Angstroms will be considered.\n",
    "fpm = FullPathMapper(struct, 'Li', max_path_length=4) \n",
    "# populate the edges with the MigratationPath objects\n",
    "fpm.populate_edges_with_migration_paths() \n",
    "# group the edges together based on equivalence of the MigratationPath objects\n",
    "fpm.group_and_label_hops()"
   ]
  },
  {
   "cell_type": "markdown",
   "metadata": {},
   "source": [
    "The result is a dicationary in the form of:\n",
    "```\n",
    "{\n",
    "    (start_index, end_index, edges_index) : {'hop_label', unique_hop_label}\n",
    "}\n",
    "```\n",
    "\n",
    "The `edge_index` only increments for hop with the same starting and ending site indices which represent hops to different unit cells. "
   ]
  }
 ],
 "metadata": {
  "kernelspec": {
   "display_name": "Python 3",
   "language": "python",
   "name": "python3"
  },
  "language_info": {
   "codemirror_mode": {
    "name": "ipython",
    "version": 3
   },
   "file_extension": ".py",
   "mimetype": "text/x-python",
   "name": "python",
   "nbconvert_exporter": "python",
   "pygments_lexer": "ipython3",
   "version": "3.7.3"
  }
 },
 "nbformat": 4,
 "nbformat_minor": 2
}
